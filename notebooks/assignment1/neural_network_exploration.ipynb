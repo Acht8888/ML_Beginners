{
 "cells": [
  {
   "cell_type": "code",
   "execution_count": null,
   "metadata": {},
   "outputs": [],
   "source": [
    "import argparse\n",
    "import os\n",
    "import sys\n",
    "import pandas as pd\n",
    "import torch\n",
    "from sklearn.model_selection import train_test_split\n",
    "\n",
    "sys.path.append(os.path.abspath('../..'))\n",
    "\n",
    "# Importing modules from your project\n",
    "from src.data.preprocess import preprocess\n",
    "from src.data.make_dataset import create_dataset\n",
    "from src.models.train_model import train_and_save, train_study_and_save, tune_and_save\n",
    "from src.visualization.visualize import visualize_study, visualize_evaluate, visualize_train\n",
    "from src.models.predict_model import evaluate_model, evaluate_model_opt_threshold, predict_model\n"
   ]
  },
  {
   "cell_type": "code",
   "execution_count": 5,
   "metadata": {},
   "outputs": [
    {
     "name": "stderr",
     "output_type": "stream",
     "text": [
      "2025-03-16 00:22:02,899 - INFO - Data successfully loaded.\n",
      "c:\\Users\\duyhu\\Downloads\\ML_Beginners\\src\\features\\build_features.py:44: FutureWarning: Downcasting behavior in `replace` is deprecated and will be removed in a future version. To retain the old behavior, explicitly call `result.infer_objects(copy=False)`. To opt-in to the future behavior, set `pd.set_option('future.no_silent_downcasting', True)`\n",
      "  df[yes_no_columns] = df[yes_no_columns].replace({\"Yes\": 1, \"No\": 0})\n",
      "2025-03-16 00:22:02,956 - INFO - Data preprocessing completed successfully.\n",
      "2025-03-16 00:22:03,010 - INFO - Processed data saved to c:\\Users\\duyhu\\Downloads\\ML_Beginners\\src\\data\\..\\..\\data\\processed\\processed_data.csv.\n"
     ]
    }
   ],
   "source": [
    "preprocess(file_name_raw=\"raw_data\", file_name_processed=\"processed_data\")"
   ]
  },
  {
   "cell_type": "code",
   "execution_count": 6,
   "metadata": {},
   "outputs": [
    {
     "name": "stderr",
     "output_type": "stream",
     "text": [
      "2025-03-16 00:22:13,157 - INFO - Loading data: processed_data\n"
     ]
    }
   ],
   "source": [
    "X_train, X_val, X_test, y_train, y_val, y_test = create_dataset(file_name=\"processed_data\")"
   ]
  },
  {
   "cell_type": "code",
   "execution_count": null,
   "metadata": {},
   "outputs": [
    {
     "name": "stdout",
     "output_type": "stream",
     "text": [
      "Training neural_network with the following hyperparameters:\n",
      "lr: 0.001\n",
      "batch_size: 32\n",
      "epochs: 20\n",
      "hidden_size: 15\n"
     ]
    },
    {
     "name": "stderr",
     "output_type": "stream",
     "text": [
      "2025-03-16 00:23:36,149 - INFO - Epoch [10/20], Train Loss: 0.4143, Validation Loss: 0.4307\n",
      "2025-03-16 00:23:38,327 - INFO - Epoch [20/20], Train Loss: 0.4054, Validation Loss: 0.4334\n",
      "2025-03-16 00:23:38,330 - INFO - Training results saved to c:\\Users\\duyhu\\Downloads\\ML_Beginners\\src\\..\\storage\\trainings\\ne_neural_network_manual.pkl.\n",
      "2025-03-16 00:23:38,334 - INFO - Model saved to c:\\Users\\duyhu\\Downloads\\ML_Beginners\\src\\..\\models\\experiments\\ne_neural_network_manual.pth\n"
     ]
    }
   ],
   "source": [
    "train_and_save(\n",
    "            model_type=\"neural_network\",\n",
    "            model_name=\"neural_network_manual\",\n",
    "            X_train=X_train,\n",
    "            y_train=y_train,\n",
    "            X_val=X_val,\n",
    "            y_val=y_val,\n",
    "            lr=0.001,\n",
    "            batch_size=32,\n",
    "            epochs=20,\n",
    "            hidden_size=15,\n",
    "        )"
   ]
  },
  {
   "cell_type": "code",
   "execution_count": 14,
   "metadata": {},
   "outputs": [
    {
     "name": "stderr",
     "output_type": "stream",
     "text": [
      "[I 2025-03-16 00:56:16,093] A new study created in memory with name: no-name-798bccf4-7c85-4b80-a4eb-c773a3a6b850\n",
      "[I 2025-03-16 00:56:22,120] Trial 0 finished with value: 4.893602478317916 and parameters: {'lr': 0.037460266483547784, 'batch_size': 124, 'hidden_size': 190, 'epochs': 64}. Best is trial 0 with value: 4.893602478317916.\n",
      "[I 2025-03-16 00:56:40,123] Trial 1 finished with value: 30.938045274127614 and parameters: {'lr': 0.01561030385783923, 'batch_size': 47, 'hidden_size': 22, 'epochs': 88}. Best is trial 0 with value: 4.893602478317916.\n",
      "[I 2025-03-16 00:56:53,322] Trial 2 finished with value: 6.887500358479364 and parameters: {'lr': 0.06011549002420346, 'batch_size': 100, 'hidden_size': 13, 'epochs': 98}. Best is trial 0 with value: 4.893602478317916.\n",
      "[I 2025-03-16 00:56:58,126] Trial 3 finished with value: 12.175545931435549 and parameters: {'lr': 0.08324593965363418, 'batch_size': 52, 'hidden_size': 53, 'epochs': 26}. Best is trial 0 with value: 4.893602478317916.\n",
      "[I 2025-03-16 00:57:02,777] Trial 4 finished with value: 7.9206822332408695 and parameters: {'lr': 0.030431181873524178, 'batch_size': 82, 'hidden_size': 115, 'epochs': 36}. Best is trial 0 with value: 4.893602478317916.\n",
      "2025-03-16 00:57:02,779 - INFO - Best Hyperparameters: {'lr': 0.037460266483547784, 'batch_size': 124, 'hidden_size': 190, 'epochs': 64}\n",
      "2025-03-16 00:57:02,782 - INFO - Study saved to c:\\Users\\duyhu\\Downloads\\ML_Beginners\\src\\..\\storage\\studies\\ne_neural_network_study.pkl\n"
     ]
    }
   ],
   "source": [
    "tune_and_save(\n",
    "        model_type=\"neural_network\",\n",
    "        model_name=\"neural_network_study\",\n",
    "        X_train=X_train,\n",
    "        y_train=y_train,\n",
    "        X_val=X_val,\n",
    "        y_val=y_val,\n",
    "        n_trials=5,\n",
    "        direction=\"minimize\",\n",
    "    )"
   ]
  },
  {
   "cell_type": "code",
   "execution_count": 15,
   "metadata": {},
   "outputs": [
    {
     "name": "stderr",
     "output_type": "stream",
     "text": [
      "2025-03-16 00:57:31,117 - INFO - Loading Optuna study from file: ne_neural_network_study\n",
      "2025-03-16 00:57:31,120 - INFO - Study ne_neural_network_study loaded successfully.\n",
      "2025-03-16 00:57:31,134 - INFO - Plotting optimization history for study.\n",
      "c:\\Users\\duyhu\\Downloads\\ML_Beginners\\src\\visualization\\visualize.py:50: ExperimentalWarning: plot_optimization_history is experimental (supported from v2.2.0). The interface can change in the future.\n",
      "  fig = optuna.visualization.matplotlib.plot_optimization_history(study)\n",
      "2025-03-16 00:57:31,953 - INFO - Plot saved as c:\\Users\\duyhu\\Downloads\\ML_Beginners\\src\\visualization\\..\\..\\storage\\plots\\ne_neural_network_study\\st_optimization_history.png\n",
      "2025-03-16 00:57:31,954 - INFO - Plotting slice plot for study.\n",
      "c:\\Users\\duyhu\\Downloads\\ML_Beginners\\src\\visualization\\visualize.py:64: ExperimentalWarning: plot_slice is experimental (supported from v2.2.0). The interface can change in the future.\n",
      "  fig = optuna.visualization.matplotlib.plot_slice(study)\n",
      "2025-03-16 00:57:32,321 - INFO - Plot saved as c:\\Users\\duyhu\\Downloads\\ML_Beginners\\src\\visualization\\..\\..\\storage\\plots\\ne_neural_network_study\\st_slice_plot.png\n",
      "2025-03-16 00:57:32,324 - INFO - Plotting parameter importance for study.\n",
      "c:\\Users\\duyhu\\Downloads\\ML_Beginners\\src\\visualization\\visualize.py:78: ExperimentalWarning: plot_param_importances is experimental (supported from v2.2.0). The interface can change in the future.\n",
      "  fig = optuna.visualization.matplotlib.plot_param_importances(study)\n",
      "2025-03-16 00:57:32,636 - INFO - Plot saved as c:\\Users\\duyhu\\Downloads\\ML_Beginners\\src\\visualization\\..\\..\\storage\\plots\\ne_neural_network_study\\st_parameter_importance.png\n"
     ]
    }
   ],
   "source": [
    "visualize_study(\"ne_neural_network_study\")"
   ]
  },
  {
   "cell_type": "code",
   "execution_count": 16,
   "metadata": {},
   "outputs": [
    {
     "name": "stderr",
     "output_type": "stream",
     "text": [
      "2025-03-16 00:58:10,608 - INFO - Study ne_neural_network_study loaded successfully.\n"
     ]
    },
    {
     "name": "stdout",
     "output_type": "stream",
     "text": [
      "Training neural_network with the following hyperparameters:\n",
      "lr: 0.037460266483547784\n",
      "batch_size: 124\n",
      "hidden_size: 190\n",
      "epochs: 64\n"
     ]
    },
    {
     "name": "stderr",
     "output_type": "stream",
     "text": [
      "2025-03-16 00:58:11,692 - INFO - Epoch [10/64], Train Loss: 0.4106, Validation Loss: 0.4398\n",
      "2025-03-16 00:58:12,847 - INFO - Epoch [20/64], Train Loss: 0.3953, Validation Loss: 0.4612\n",
      "2025-03-16 00:58:14,037 - INFO - Epoch [30/64], Train Loss: 0.3761, Validation Loss: 0.4783\n",
      "2025-03-16 00:58:15,161 - INFO - Epoch [40/64], Train Loss: 0.3618, Validation Loss: 0.5106\n",
      "2025-03-16 00:58:16,375 - INFO - Epoch [50/64], Train Loss: 0.3448, Validation Loss: 0.5610\n",
      "2025-03-16 00:58:17,386 - INFO - Epoch [60/64], Train Loss: 0.3463, Validation Loss: 0.5902\n",
      "2025-03-16 00:58:17,778 - INFO - Training results saved to c:\\Users\\duyhu\\Downloads\\ML_Beginners\\src\\..\\storage\\trainings\\ne_neural_network_study.pkl.\n",
      "2025-03-16 00:58:17,782 - INFO - Model saved to c:\\Users\\duyhu\\Downloads\\ML_Beginners\\src\\..\\models\\experiments\\ne_neural_network_study.pth\n"
     ]
    }
   ],
   "source": [
    "train_study_and_save(\n",
    "            model_type=\"neural_network\",\n",
    "            model_name=\"neural_network_study\",\n",
    "            X_train=X_train,\n",
    "            y_train=y_train,\n",
    "            X_val=X_val,\n",
    "            y_val=y_val,\n",
    "            file_name=\"ne_neural_network_study\",\n",
    "        )"
   ]
  },
  {
   "cell_type": "code",
   "execution_count": 17,
   "metadata": {},
   "outputs": [
    {
     "name": "stderr",
     "output_type": "stream",
     "text": [
      "2025-03-16 00:58:40,521 - INFO - Loading training results from file: ne_neural_network_study\n",
      "2025-03-16 00:58:40,521 - INFO - Training ne_neural_network_study loaded successfully.\n",
      "2025-03-16 00:58:40,533 - INFO - Plotting loss curves.\n",
      "2025-03-16 00:58:40,659 - INFO - Plot saved as c:\\Users\\duyhu\\Downloads\\ML_Beginners\\src\\visualization\\..\\..\\storage\\plots\\ne_neural_network_study\\tr_loss_curve.png\n"
     ]
    }
   ],
   "source": [
    "visualize_train(\"ne_neural_network_study\")"
   ]
  },
  {
   "cell_type": "code",
   "execution_count": 21,
   "metadata": {},
   "outputs": [
    {
     "name": "stderr",
     "output_type": "stream",
     "text": [
      "2025-03-16 01:09:27,149 - INFO - Model ne_neural_network_study loaded successfully.\n",
      "2025-03-16 01:09:27,175 - INFO - Accuracy: 0.7882\n",
      "2025-03-16 01:09:27,176 - INFO - Precision: 0.6000\n",
      "2025-03-16 01:09:27,177 - INFO - Recall: 0.5304\n",
      "2025-03-16 01:09:27,178 - INFO - F1: 0.5630\n",
      "2025-03-16 01:09:27,179 - INFO - Roc_auc: 0.8100\n",
      "2025-03-16 01:09:27,183 - INFO - Evaluation results saved to c:\\Users\\duyhu\\Downloads\\ML_Beginners\\src\\..\\storage\\evaluations\\ne_neural_network_study.pkl.\n"
     ]
    }
   ],
   "source": [
    "evaluate_model(file_name=\"ne_neural_network_study\", X_test=X_test, y_test=y_test, threshold=0.5)"
   ]
  },
  {
   "cell_type": "code",
   "execution_count": 22,
   "metadata": {},
   "outputs": [
    {
     "name": "stderr",
     "output_type": "stream",
     "text": [
      "2025-03-16 01:09:57,065 - INFO - Loading evaluation results from file: ne_neural_network_study\n",
      "2025-03-16 01:09:57,065 - INFO - Evaluation ne_neural_network_study loaded successfully.\n",
      "2025-03-16 01:09:57,080 - INFO - Plotting confusion matrix.\n",
      "2025-03-16 01:09:57,207 - INFO - Plot saved as c:\\Users\\duyhu\\Downloads\\ML_Beginners\\src\\visualization\\..\\..\\storage\\plots\\ne_neural_network_study\\ev_confusion_matrix.png\n",
      "2025-03-16 01:09:57,208 - INFO - Plotting ROC curve and AUC score.\n",
      "2025-03-16 01:09:57,331 - INFO - Plot saved as c:\\Users\\duyhu\\Downloads\\ML_Beginners\\src\\visualization\\..\\..\\storage\\plots\\ne_neural_network_study\\ev_roc_curve.png\n",
      "2025-03-16 01:09:57,332 - INFO - Plotting Precision-Recall curve.\n",
      "2025-03-16 01:09:57,429 - INFO - Plot saved as c:\\Users\\duyhu\\Downloads\\ML_Beginners\\src\\visualization\\..\\..\\storage\\plots\\ne_neural_network_study\\ev_precision_recall_curve.png\n"
     ]
    }
   ],
   "source": [
    "visualize_evaluate(\"ne_neural_network_study\")"
   ]
  },
  {
   "cell_type": "code",
   "execution_count": 23,
   "metadata": {},
   "outputs": [
    {
     "name": "stderr",
     "output_type": "stream",
     "text": [
      "2025-03-16 01:10:23,639 - INFO - Model ne_neural_network_study loaded successfully.\n",
      "2025-03-16 01:10:23,654 - INFO - Optimal Threshold (Maximizing Youden's J): 0.3365\n",
      "2025-03-16 01:10:23,669 - INFO - Accuracy: 0.7413\n",
      "2025-03-16 01:10:23,670 - INFO - Precision: 0.4982\n",
      "2025-03-16 01:10:23,671 - INFO - Recall: 0.7459\n",
      "2025-03-16 01:10:23,672 - INFO - F1: 0.5973\n",
      "2025-03-16 01:10:23,672 - INFO - Roc_auc: 0.8100\n",
      "2025-03-16 01:10:23,676 - INFO - Evaluation results saved to c:\\Users\\duyhu\\Downloads\\ML_Beginners\\src\\..\\storage\\evaluations\\ne_neural_network_study.pkl.\n"
     ]
    }
   ],
   "source": [
    "evaluate_model_opt_threshold(file_name=\"ne_neural_network_study\", X_test=X_test, y_test=y_test)"
   ]
  },
  {
   "cell_type": "code",
   "execution_count": 24,
   "metadata": {},
   "outputs": [
    {
     "name": "stderr",
     "output_type": "stream",
     "text": [
      "2025-03-16 01:10:33,614 - INFO - Loading evaluation results from file: ne_neural_network_study\n",
      "2025-03-16 01:10:33,615 - INFO - Evaluation ne_neural_network_study loaded successfully.\n",
      "2025-03-16 01:10:33,633 - INFO - Plotting confusion matrix.\n",
      "2025-03-16 01:10:33,749 - INFO - Plot saved as c:\\Users\\duyhu\\Downloads\\ML_Beginners\\src\\visualization\\..\\..\\storage\\plots\\ne_neural_network_study\\ev_confusion_matrix.png\n",
      "2025-03-16 01:10:33,750 - INFO - Plotting ROC curve and AUC score.\n",
      "2025-03-16 01:10:33,876 - INFO - Plot saved as c:\\Users\\duyhu\\Downloads\\ML_Beginners\\src\\visualization\\..\\..\\storage\\plots\\ne_neural_network_study\\ev_roc_curve.png\n",
      "2025-03-16 01:10:33,877 - INFO - Plotting Precision-Recall curve.\n",
      "2025-03-16 01:10:33,981 - INFO - Plot saved as c:\\Users\\duyhu\\Downloads\\ML_Beginners\\src\\visualization\\..\\..\\storage\\plots\\ne_neural_network_study\\ev_precision_recall_curve.png\n"
     ]
    }
   ],
   "source": [
    "visualize_evaluate(\"ne_neural_network_study\")"
   ]
  }
 ],
 "metadata": {
  "kernelspec": {
   "display_name": "Python 3",
   "language": "python",
   "name": "python3"
  },
  "language_info": {
   "codemirror_mode": {
    "name": "ipython",
    "version": 3
   },
   "file_extension": ".py",
   "mimetype": "text/x-python",
   "name": "python",
   "nbconvert_exporter": "python",
   "pygments_lexer": "ipython3",
   "version": "3.12.6"
  }
 },
 "nbformat": 4,
 "nbformat_minor": 2
}
